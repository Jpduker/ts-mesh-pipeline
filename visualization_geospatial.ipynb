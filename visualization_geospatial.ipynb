{
 "cells": [
  {
   "cell_type": "code",
   "execution_count": 1,
   "id": "dfa6d7bc",
   "metadata": {},
   "outputs": [
    {
     "name": "stdout",
     "output_type": "stream",
     "text": [
      "Requirement already satisfied: earthengine-api in c:\\users\\jayaprakash\\anaconda3\\lib\\site-packages (0.1.316)\n",
      "Requirement already satisfied: google-api-python-client<2,>=1.12.1 in c:\\users\\jayaprakash\\anaconda3\\lib\\site-packages (from earthengine-api) (1.12.11)\n",
      "Requirement already satisfied: google-auth-httplib2>=0.0.3 in c:\\users\\jayaprakash\\anaconda3\\lib\\site-packages (from earthengine-api) (0.1.0)\n",
      "Requirement already satisfied: six in c:\\users\\jayaprakash\\anaconda3\\lib\\site-packages (from earthengine-api) (1.15.0)\n",
      "Requirement already satisfied: google-cloud-storage in c:\\users\\jayaprakash\\anaconda3\\lib\\site-packages (from earthengine-api) (2.4.0)\n",
      "Requirement already satisfied: google-auth>=1.4.1 in c:\\users\\jayaprakash\\anaconda3\\lib\\site-packages (from earthengine-api) (2.9.0)\n",
      "Requirement already satisfied: future in c:\\users\\jayaprakash\\anaconda3\\lib\\site-packages (from earthengine-api) (0.18.2)\n",
      "Requirement already satisfied: httplib2shim in c:\\users\\jayaprakash\\anaconda3\\lib\\site-packages (from earthengine-api) (0.0.3)\n",
      "Requirement already satisfied: httplib2<1dev,>=0.9.2 in c:\\users\\jayaprakash\\anaconda3\\lib\\site-packages (from earthengine-api) (0.20.4)\n",
      "Requirement already satisfied: google-api-core<3dev,>=1.21.0 in c:\\users\\jayaprakash\\anaconda3\\lib\\site-packages (from google-api-python-client<2,>=1.12.1->earthengine-api) (2.8.2)\n",
      "Requirement already satisfied: uritemplate<4dev,>=3.0.0 in c:\\users\\jayaprakash\\anaconda3\\lib\\site-packages (from google-api-python-client<2,>=1.12.1->earthengine-api) (3.0.1)\n",
      "Requirement already satisfied: protobuf<5.0.0dev,>=3.15.0 in c:\\users\\jayaprakash\\anaconda3\\lib\\site-packages (from google-api-core<3dev,>=1.21.0->google-api-python-client<2,>=1.12.1->earthengine-api) (3.19.1)\n",
      "Requirement already satisfied: requests<3.0.0dev,>=2.18.0 in c:\\users\\jayaprakash\\anaconda3\\lib\\site-packages (from google-api-core<3dev,>=1.21.0->google-api-python-client<2,>=1.12.1->earthengine-api) (2.25.1)\n",
      "Requirement already satisfied: googleapis-common-protos<2.0dev,>=1.56.2 in c:\\users\\jayaprakash\\anaconda3\\lib\\site-packages (from google-api-core<3dev,>=1.21.0->google-api-python-client<2,>=1.12.1->earthengine-api) (1.56.3)\n",
      "Requirement already satisfied: rsa<5,>=3.1.4 in c:\\users\\jayaprakash\\anaconda3\\lib\\site-packages (from google-auth>=1.4.1->earthengine-api) (4.8)\n",
      "Requirement already satisfied: pyasn1-modules>=0.2.1 in c:\\users\\jayaprakash\\anaconda3\\lib\\site-packages (from google-auth>=1.4.1->earthengine-api) (0.2.8)\n",
      "Requirement already satisfied: cachetools<6.0,>=2.0.0 in c:\\users\\jayaprakash\\anaconda3\\lib\\site-packages (from google-auth>=1.4.1->earthengine-api) (4.2.4)\n",
      "Requirement already satisfied: pyparsing!=3.0.0,!=3.0.1,!=3.0.2,!=3.0.3,<4,>=2.4.2 in c:\\users\\jayaprakash\\anaconda3\\lib\\site-packages (from httplib2<1dev,>=0.9.2->earthengine-api) (2.4.7)\n",
      "Requirement already satisfied: pyasn1<0.5.0,>=0.4.6 in c:\\users\\jayaprakash\\anaconda3\\lib\\site-packages (from pyasn1-modules>=0.2.1->google-auth>=1.4.1->earthengine-api) (0.4.8)\n",
      "Requirement already satisfied: idna<3,>=2.5 in c:\\users\\jayaprakash\\anaconda3\\lib\\site-packages (from requests<3.0.0dev,>=2.18.0->google-api-core<3dev,>=1.21.0->google-api-python-client<2,>=1.12.1->earthengine-api) (2.10)\n",
      "Requirement already satisfied: urllib3<1.27,>=1.21.1 in c:\\users\\jayaprakash\\anaconda3\\lib\\site-packages (from requests<3.0.0dev,>=2.18.0->google-api-core<3dev,>=1.21.0->google-api-python-client<2,>=1.12.1->earthengine-api) (1.26.4)\n",
      "Requirement already satisfied: chardet<5,>=3.0.2 in c:\\users\\jayaprakash\\anaconda3\\lib\\site-packages (from requests<3.0.0dev,>=2.18.0->google-api-core<3dev,>=1.21.0->google-api-python-client<2,>=1.12.1->earthengine-api) (4.0.0)\n",
      "Requirement already satisfied: certifi>=2017.4.17 in c:\\users\\jayaprakash\\anaconda3\\lib\\site-packages (from requests<3.0.0dev,>=2.18.0->google-api-core<3dev,>=1.21.0->google-api-python-client<2,>=1.12.1->earthengine-api) (2020.12.5)\n",
      "Requirement already satisfied: google-cloud-core<3.0dev,>=2.3.0 in c:\\users\\jayaprakash\\anaconda3\\lib\\site-packages (from google-cloud-storage->earthengine-api) (2.3.1)\n",
      "Requirement already satisfied: google-resumable-media>=2.3.2 in c:\\users\\jayaprakash\\anaconda3\\lib\\site-packages (from google-cloud-storage->earthengine-api) (2.3.3)\n",
      "Requirement already satisfied: google-crc32c<2.0dev,>=1.0 in c:\\users\\jayaprakash\\anaconda3\\lib\\site-packages (from google-resumable-media>=2.3.2->google-cloud-storage->earthengine-api) (1.3.0)\n"
     ]
    }
   ],
   "source": [
    "!pip install earthengine-api"
   ]
  },
  {
   "cell_type": "markdown",
   "id": "49a39e44",
   "metadata": {},
   "source": [
    "### Necessary Imports"
   ]
  },
  {
   "cell_type": "code",
   "execution_count": 2,
   "id": "04d6fd0b",
   "metadata": {},
   "outputs": [],
   "source": [
    "import ee\n",
    "import pandas as pd\n",
    "import matplotlib.pyplot as plt\n",
    "import numpy as np\n",
    "from scipy import optimize\n",
    "%matplotlib inline\n",
    "# ee.Authenticate()\n"
   ]
  },
  {
   "cell_type": "markdown",
   "id": "0b753101",
   "metadata": {},
   "source": [
    "### Initializing the Google Earth Engine API"
   ]
  },
  {
   "cell_type": "code",
   "execution_count": 3,
   "id": "3e2ad051",
   "metadata": {},
   "outputs": [],
   "source": [
    "ee.Initialize()"
   ]
  },
  {
   "cell_type": "code",
   "execution_count": 26,
   "id": "edec8be6",
   "metadata": {},
   "outputs": [],
   "source": [
    "lc = ee.ImageCollection('MODIS/006/MCD12Q1')\n",
    "\n",
    "# Import the MODIS land surface temperature collection.\n",
    "lst = ee.ImageCollection('MODIS/006/MOD11A1')\n",
    "\n",
    "# Import the USGS ground elevation image.\n",
    "elv = ee.Image('USGS/SRTMGL1_003')\n"
   ]
  },
  {
   "cell_type": "code",
   "execution_count": 27,
   "id": "0d62eea9",
   "metadata": {},
   "outputs": [],
   "source": [
    "# Initial date of interest (inclusive).\n",
    "i_date = '2020-01-01'\n",
    "\n",
    "# Final date of interest (exclusive).\n",
    "f_date = '2022-01-01'\n",
    "# Selection of appropriate bands and dates for LST.\n",
    "lst = lst.select('LST_Day_1km', 'QC_Day').filterDate(i_date, f_date)"
   ]
  },
  {
   "cell_type": "code",
   "execution_count": 28,
   "id": "700ff747",
   "metadata": {},
   "outputs": [],
   "source": [
    "\n",
    "# Define the urban location of interest as a point near Washington, USA.\n",
    "\n",
    "u_lon = 120.7401\n",
    "u_lat = 47.7511\n",
    "u_poi = ee.Geometry.Point(u_lon, u_lat)\n",
    "\n"
   ]
  },
  {
   "cell_type": "code",
   "execution_count": 29,
   "id": "b2c8eacf",
   "metadata": {},
   "outputs": [
    {
     "name": "stdout",
     "output_type": "stream",
     "text": [
      "Ground elevation at urban point: 1047 m\n",
      "Average daytime LST at urban point: 8.94 °C\n",
      "Land cover value at urban point is: 9\n"
     ]
    }
   ],
   "source": [
    "scale = 1000  # scale in meters\n",
    "\n",
    "# Print the elevation near Washington DC, USA.\n",
    "elv_urban_point = elv.sample(u_poi, scale).first().get('elevation').getInfo()\n",
    "print('Ground elevation at urban point:', elv_urban_point, 'm')\n",
    "\n",
    "# Calculate and print the mean value of the LST collection at the point.\n",
    "lst_urban_point = lst.mean().sample(u_poi, scale).first().get('LST_Day_1km').getInfo()\n",
    "print('Average daytime LST at urban point:', round(lst_urban_point*0.02 -273.15, 2), '°C')\n",
    "\n",
    "# Print the land cover type at the point.\n",
    "lc_urban_point = lc.first().sample(u_poi, scale).first().get('LC_Type1').getInfo()\n",
    "print('Land cover value at urban point is:', lc_urban_point)\n",
    "\n"
   ]
  },
  {
   "cell_type": "code",
   "execution_count": 30,
   "id": "c187fb30",
   "metadata": {},
   "outputs": [
    {
     "name": "stdout",
     "output_type": "stream",
     "text": [
      "[['id', 'longitude', 'latitude', 'time', 'LST_Day_1km', 'QC_Day'], ['2020_01_01', 120.73806576208429, 47.74994892737317, 1577836800000, None, 2], ['2020_01_02', 120.73806576208429, 47.74994892737317, 1577923200000, None, 2], ['2020_01_03', 120.73806576208429, 47.74994892737317, 1578009600000, None, 2], ['2020_01_04', 120.73806576208429, 47.74994892737317, 1578096000000, None, 2]]\n"
     ]
    }
   ],
   "source": [
    "# Get the data for the pixel intersecting the point in urban area.\n",
    "lst_u_poi = lst.getRegion(u_poi, scale).getInfo()\n",
    "# Preview the result.\n",
    "print(lst_u_poi[:5])"
   ]
  },
  {
   "cell_type": "markdown",
   "id": "9cca982d",
   "metadata": {},
   "source": [
    "## Method to convert the data to a pandas df and pre-processing"
   ]
  },
  {
   "cell_type": "code",
   "execution_count": 31,
   "id": "1d7a0b2a",
   "metadata": {},
   "outputs": [],
   "source": [
    "def ee_array_to_df(arr, list_of_bands):\n",
    "    \"\"\"Transforms client-side ee.Image.getRegion array to pandas.DataFrame.\"\"\"\n",
    "    df = pd.DataFrame(arr)\n",
    "\n",
    "    # Rearrange the header.\n",
    "    headers = df.iloc[0]\n",
    "    df = pd.DataFrame(df.values[1:], columns=headers)\n",
    "\n",
    "    # Remove rows without data inside.\n",
    "    df = df[['longitude', 'latitude', 'time', *list_of_bands]].dropna()\n",
    "\n",
    "    # Convert the data to numeric values.\n",
    "    for band in list_of_bands:\n",
    "        df[band] = pd.to_numeric(df[band], errors='coerce')\n",
    "\n",
    "    # Convert the time field into a datetime.\n",
    "    df['datetime'] = pd.to_datetime(df['time'], unit='ms')\n",
    "\n",
    "    # Keep the columns of interest.\n",
    "    df = df[['time','datetime',  *list_of_bands]]\n",
    "\n",
    "    return df"
   ]
  },
  {
   "cell_type": "code",
   "execution_count": 32,
   "id": "cc01b479",
   "metadata": {},
   "outputs": [
    {
     "data": {
      "text/html": [
       "<div>\n",
       "<style scoped>\n",
       "    .dataframe tbody tr th:only-of-type {\n",
       "        vertical-align: middle;\n",
       "    }\n",
       "\n",
       "    .dataframe tbody tr th {\n",
       "        vertical-align: top;\n",
       "    }\n",
       "\n",
       "    .dataframe thead th {\n",
       "        text-align: right;\n",
       "    }\n",
       "</style>\n",
       "<table border=\"1\" class=\"dataframe\">\n",
       "  <thead>\n",
       "    <tr style=\"text-align: right;\">\n",
       "      <th></th>\n",
       "      <th>time</th>\n",
       "      <th>datetime</th>\n",
       "      <th>LST_Day_1km</th>\n",
       "    </tr>\n",
       "  </thead>\n",
       "  <tbody>\n",
       "    <tr>\n",
       "      <th>706</th>\n",
       "      <td>1638835200000</td>\n",
       "      <td>2021-12-07</td>\n",
       "      <td>-4.39</td>\n",
       "    </tr>\n",
       "    <tr>\n",
       "      <th>712</th>\n",
       "      <td>1639353600000</td>\n",
       "      <td>2021-12-13</td>\n",
       "      <td>-12.39</td>\n",
       "    </tr>\n",
       "    <tr>\n",
       "      <th>718</th>\n",
       "      <td>1639872000000</td>\n",
       "      <td>2021-12-19</td>\n",
       "      <td>-18.13</td>\n",
       "    </tr>\n",
       "    <tr>\n",
       "      <th>720</th>\n",
       "      <td>1640044800000</td>\n",
       "      <td>2021-12-21</td>\n",
       "      <td>-22.11</td>\n",
       "    </tr>\n",
       "    <tr>\n",
       "      <th>727</th>\n",
       "      <td>1640649600000</td>\n",
       "      <td>2021-12-28</td>\n",
       "      <td>-15.49</td>\n",
       "    </tr>\n",
       "  </tbody>\n",
       "</table>\n",
       "</div>"
      ],
      "text/plain": [
       "0             time   datetime  LST_Day_1km\n",
       "706  1638835200000 2021-12-07        -4.39\n",
       "712  1639353600000 2021-12-13       -12.39\n",
       "718  1639872000000 2021-12-19       -18.13\n",
       "720  1640044800000 2021-12-21       -22.11\n",
       "727  1640649600000 2021-12-28       -15.49"
      ]
     },
     "execution_count": 32,
     "metadata": {},
     "output_type": "execute_result"
    }
   ],
   "source": [
    "lst_df_urban = ee_array_to_df(lst_u_poi,['LST_Day_1km'])\n",
    "\n",
    "def t_modis_to_celsius(t_modis):\n",
    "    \"\"\"Converts MODIS LST units to degrees Celsius.\"\"\"\n",
    "    t_celsius =  0.02*t_modis - 273.15\n",
    "    return t_celsius\n",
    "\n",
    "# Apply the function to get temperature in celsius.\n",
    "lst_df_urban['LST_Day_1km'] = lst_df_urban['LST_Day_1km'].apply(t_modis_to_celsius)\n",
    "    \n",
    "lst_df_urban.tail()"
   ]
  },
  {
   "cell_type": "code",
   "execution_count": 17,
   "id": "55c77086",
   "metadata": {},
   "outputs": [],
   "source": [
    "lst_df_urban.to_csv(\"Output_LST.csv\")"
   ]
  },
  {
   "cell_type": "markdown",
   "id": "0c77efa2",
   "metadata": {},
   "source": [
    "## Visualizing the data"
   ]
  },
  {
   "cell_type": "code",
   "execution_count": 35,
   "id": "84391acc",
   "metadata": {},
   "outputs": [
    {
     "data": {
      "image/png": "[encoded data removed]",
      "text/plain": [
       "<Figure size 1008x432 with 1 Axes>"
      ]
     },
     "metadata": {
      "needs_background": "light"
     },
     "output_type": "display_data"
    }
   ],
   "source": [
    "# Fitting curves.\n",
    "## First, extract x values (times) from the dfs.\n",
    "x_data_u = np.asanyarray(lst_df_urban['time'].apply(float))  # urban\n",
    "\n",
    "## Secondly, extract y values (LST) from the dfs.\n",
    "y_data_u = np.asanyarray(lst_df_urban['LST_Day_1km'].apply(float))  # urban\n",
    "\n",
    "## Then, define the fitting function with parameters.\n",
    "def fit_func(t, lst0, delta_lst, tau, phi):\n",
    "    return lst0 + (delta_lst/2)*np.sin(2*np.pi*t/tau + phi)\n",
    "\n",
    "## Optimize the parameters using a good start p0.\n",
    "lst0 = 20\n",
    "delta_lst = 40\n",
    "tau = 365*24*3600*1000   # milliseconds in a year\n",
    "phi = 2*np.pi*4*30.5*3600*1000/tau  # offset regarding when we expect LST(t)=LST0\n",
    "\n",
    "params_u, params_covariance_u = optimize.curve_fit(\n",
    "    fit_func, x_data_u, y_data_u, p0=[lst0, delta_lst, tau, phi])\n",
    "\n",
    "# Subplots.\n",
    "fig, ax = plt.subplots(figsize=(14, 6))\n",
    "\n",
    "# Add scatter plots.\n",
    "ax.scatter(lst_df_urban['datetime'], lst_df_urban['LST_Day_1km'],\n",
    "           c='black', alpha=0.2, label='Urban (data)')\n",
    "\n",
    "# Add fitting curves.\n",
    "ax.plot(lst_df_urban['datetime'],\n",
    "        fit_func(x_data_u, params_u[0], params_u[1], params_u[2], params_u[3]),\n",
    "        label='Urban (fitted)', color='black', lw=2.5)\n",
    "\n",
    "\n",
    "# Add some parameters.\n",
    "ax.set_title('Daytime Land Surface Temperature Washington DC, USA', fontsize=16)\n",
    "ax.set_xlabel('Date', fontsize=14)\n",
    "ax.set_ylabel('Temperature [C]', fontsize=14)\n",
    "ax.set_ylim(-0, 40)\n",
    "ax.grid(lw=0.2)\n",
    "ax.legend(fontsize=14, loc='lower right')\n",
    "\n",
    "plt.show()\n"
   ]
  },
  {
   "cell_type": "code",
   "execution_count": 36,
   "id": "2a348839",
   "metadata": {},
   "outputs": [],
   "source": [
    "# Define a region of interest with a buffer zone of 1000 km around Washington.\n",
    "roi = u_poi.buffer(1e6)"
   ]
  },
  {
   "cell_type": "code",
   "execution_count": 37,
   "id": "9b24fc89",
   "metadata": {},
   "outputs": [],
   "source": [
    "# Reduce the LST collection by mean.\n",
    "lst_img = lst.mean()\n",
    "\n",
    "# Adjust for scale factor.\n",
    "lst_img = lst_img.select('LST_Day_1km').multiply(0.02)\n",
    "\n",
    "# Convert Kelvin to Celsius.\n",
    "lst_img = lst_img.select('LST_Day_1km').add(-273.15)"
   ]
  },
  {
   "cell_type": "code",
   "execution_count": 39,
   "id": "2939ea7e",
   "metadata": {},
   "outputs": [
    {
     "name": "stdout",
     "output_type": "stream",
     "text": [
      "https://earthengine.googleapis.com/v1alpha/projects/earthengine-legacy/thumbnails/eb4d9cfbc78e916e71cd7d2ff185af14-99abb987cfdeebae23139e5cda536074:getPixels\n",
      "\n",
      "Please wait while the thumbnail loads, it may take a moment...\n"
     ]
    },
    {
     "data": {
      "text/html": [
       "<img src=\"https://earthengine.googleapis.com/v1alpha/projects/earthengine-legacy/thumbnails/eb4d9cfbc78e916e71cd7d2ff185af14-99abb987cfdeebae23139e5cda536074:getPixels\"/>"
      ],
      "text/plain": [
       "<IPython.core.display.Image object>"
      ]
     },
     "execution_count": 39,
     "metadata": {},
     "output_type": "execute_result"
    }
   ],
   "source": [
    "from IPython.display import Image\n",
    "\n",
    "# Create a URL to the styled image for a region around France.\n",
    "url = lst_img.getThumbUrl({\n",
    "    'min': 10, 'max': 30, 'dimensions': 512, 'region': roi,\n",
    "    'palette': ['blue', 'yellow', 'orange', 'red']})\n",
    "print(url)\n",
    "\n",
    "# Display the thumbnail land surface temperature in France.\n",
    "print('\\nPlease wait while the thumbnail loads, it may take a moment...')\n",
    "Image(url=url)"
   ]
  },
  {
   "cell_type": "markdown",
   "id": "9b6728b6",
   "metadata": {},
   "source": [
    "## Vsiualizing Ground Elevation in Washington DC"
   ]
  },
  {
   "cell_type": "code",
   "execution_count": 40,
   "id": "99646ce1",
   "metadata": {},
   "outputs": [
    {
     "data": {
      "text/html": [
       "<img src=\"https://earthengine.googleapis.com/v1alpha/projects/earthengine-legacy/thumbnails/505fee656b166798867011e81244f70b-6f50b3f8877f6abe90125d189f64837c:getPixels\"/>"
      ],
      "text/plain": [
       "<IPython.core.display.Image object>"
      ]
     },
     "execution_count": 40,
     "metadata": {},
     "output_type": "execute_result"
    }
   ],
   "source": [
    "# Make pixels with elevation below sea level transparent.\n",
    "elv_img = elv.updateMask(elv.gt(0))\n",
    "\n",
    "# Display the thumbnail of styled elevation in France.\n",
    "Image(url=elv_img.getThumbURL({\n",
    "    'min': 0, 'max': 2000, 'dimensions': 512, 'region': roi,\n",
    "    'palette': ['006633', 'E5FFCC', '662A00', 'D8D8D8', 'F5F5F5']}))"
   ]
  },
  {
   "cell_type": "code",
   "execution_count": null,
   "id": "9685b5a4",
   "metadata": {},
   "outputs": [],
   "source": []
  },
  {
   "cell_type": "code",
   "execution_count": null,
   "id": "31756417",
   "metadata": {},
   "outputs": [],
   "source": []
  }
 ],
 "metadata": {
  "kernelspec": {
   "display_name": "Python 3",
   "language": "python",
   "name": "python3"
  },
  "language_info": {
   "codemirror_mode": {
    "name": "ipython",
    "version": 3
   },
   "file_extension": ".py",
   "mimetype": "text/x-python",
   "name": "python",
   "nbconvert_exporter": "python",
   "pygments_lexer": "ipython3",
   "version": "3.8.8"
  }
 },
 "nbformat": 4,
 "nbformat_minor": 5
}
